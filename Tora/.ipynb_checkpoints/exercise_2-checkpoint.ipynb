{
 "cells": [
  {
   "cell_type": "code",
   "execution_count": 1,
   "id": "6ebab3a9",
   "metadata": {},
   "outputs": [
    {
     "name": "stdout",
     "output_type": "stream",
     "text": [
      "[[625688 615999 588972 ... 615053 623989 609362]\n",
      " [675400 644283 631939 ... 676671 640878 631582]\n",
      " [583521 594097 535888 ... 574695 564173 568216]\n",
      " ...\n",
      " [594821 604232 590991 ... 602776 606497 573846]\n",
      " [575902 601527 557499 ... 594051 600997 605830]\n",
      " [660398 654031 634012 ... 672363 652609 675396]]\n"
     ]
    }
   ],
   "source": [
    "# Program to multiply two matrices using numpy instead of lists and nested loops\n",
    "import numpy as np\n",
    "\n",
    "N = 250\n",
    "\n",
    "X = np.random.randint(0, 100, (N, N))\n",
    "Y = np.random.randint(0, 100, (N, N+1))\n",
    "\n",
    "result = np.dot(X,Y)\n",
    "\n",
    "print(result)"
   ]
  },
  {
   "cell_type": "code",
   "execution_count": null,
   "id": "e18e92ee",
   "metadata": {},
   "outputs": [],
   "source": []
  }
 ],
 "metadata": {
  "kernelspec": {
   "display_name": "Python 3 (ipykernel)",
   "language": "python",
   "name": "python3"
  },
  "language_info": {
   "codemirror_mode": {
    "name": "ipython",
    "version": 3
   },
   "file_extension": ".py",
   "mimetype": "text/x-python",
   "name": "python",
   "nbconvert_exporter": "python",
   "pygments_lexer": "ipython3",
   "version": "3.9.7"
  }
 },
 "nbformat": 4,
 "nbformat_minor": 5
}
